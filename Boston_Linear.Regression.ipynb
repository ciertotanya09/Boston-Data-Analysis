{
 "cells": [
  {
   "cell_type": "markdown",
   "metadata": {
    "colab_type": "text",
    "id": "luCi2dFI9Y41"
   },
   "source": [
    "# Linear Regression\n",
    "\n",
    "Linear Regression is a supervised learning technique, used in regression tasks. It is the most classic and simple technique"
   ]
  },
  {
   "cell_type": "code",
   "execution_count": 1,
   "metadata": {
    "colab": {},
    "colab_type": "code",
    "id": "X3Z_emqD9Y45"
   },
   "outputs": [],
   "source": [
    "import numpy as np\n",
    "import pandas as pd\n",
    "import matplotlib.pyplot as plt\n",
    "import seaborn as sns\n",
    "import mglearn"
   ]
  },
  {
   "cell_type": "code",
   "execution_count": 2,
   "metadata": {
    "colab": {},
    "colab_type": "code",
    "id": "s7UGgMtK9Y5I",
    "outputId": "b14c3c2b-853d-4f79-fa22-1819565813da"
   },
   "outputs": [
    {
     "name": "stdout",
     "output_type": "stream",
     "text": [
      "w[0]: 0.393906  b: -0.031804\n"
     ]
    },
    {
     "data": {
      "image/png": "[encoded data removed]",
      "text/plain": [
       "<Figure size 576x576 with 1 Axes>"
      ]
     },
     "metadata": {
      "needs_background": "light"
     },
     "output_type": "display_data"
    }
   ],
   "source": [
    "mglearn.plots.plot_linear_regression_wave()"
   ]
  },
  {
   "cell_type": "markdown",
   "metadata": {
    "colab_type": "text",
    "id": "qsMvAmxh9Y5W"
   },
   "source": [
    "## Data\n",
    "\n",
    "The Boston data frame has 14 columns. We need to predict the median value of homes, i.e. **medv** \n",
    "\n",
    "This data frame contains the following columns:\n",
    "\n",
    "    crim: per capita crime rate by town.\n",
    "    zn: proportion of residential land zoned for lots over 25,000 sq.ft.\n",
    "    indus: proportion of non-retail business acres per town.\n",
    "    chas: Charles River dummy variable (= 1 if tract bounds river; 0 otherwise).\n",
    "    nox: nitrogen oxides concentration (parts per 10 million).\n",
    "    rm: average number of rooms per dwelling.\n",
    "    age: proportion of owner-occupied units built prior to 1940.\n",
    "    dis: weighted mean of distances to five Boston employment centres.\n",
    "    rad: index of accessibility to radial highways.\n",
    "    tax: full-value property-tax rate per /10000 dollars\n",
    "    ptratio: pupil-teacher ratio by town.\n",
    "    black: 1000(Bk - 0.63)^2 where Bk is the proportion of blacks by town.\n",
    "    lstat: lower status of the population (percent).\n",
    "    medv: median value of owner-occupied homes in /1000$"
   ]
  },
  {
   "cell_type": "code",
   "execution_count": 3,
   "metadata": {
    "colab": {},
    "colab_type": "code",
    "id": "t35xHI9y9Y5Y"
   },
   "outputs": [],
   "source": [
    "df = pd.read_csv('boston_data.csv',index_col=0)"
   ]
  },
  {
   "cell_type": "code",
   "execution_count": 5,
   "metadata": {
    "colab": {},
    "colab_type": "code",
    "id": "X1k031039Y5j",
    "outputId": "9f13420b-6397-4ca7-a20d-b267a857ef8d"
   },
   "outputs": [
    {
     "data": {
      "text/html": [
       "<div>\n",
       "<style scoped>\n",
       "    .dataframe tbody tr th:only-of-type {\n",
       "        vertical-align: middle;\n",
       "    }\n",
       "\n",
       "    .dataframe tbody tr th {\n",
       "        vertical-align: top;\n",
       "    }\n",
       "\n",
       "    .dataframe thead th {\n",
       "        text-align: right;\n",
       "    }\n",
       "</style>\n",
       "<table border=\"1\" class=\"dataframe\">\n",
       "  <thead>\n",
       "    <tr style=\"text-align: right;\">\n",
       "      <th></th>\n",
       "      <th>crim</th>\n",
       "      <th>zn</th>\n",
       "      <th>indus</th>\n",
       "      <th>chas</th>\n",
       "      <th>nox</th>\n",
       "      <th>rm</th>\n",
       "      <th>age</th>\n",
       "      <th>dis</th>\n",
       "      <th>rad</th>\n",
       "      <th>tax</th>\n",
       "      <th>ptratio</th>\n",
       "      <th>black</th>\n",
       "      <th>lstat</th>\n",
       "      <th>medv</th>\n",
       "    </tr>\n",
       "    <tr>\n",
       "      <th>ID</th>\n",
       "      <th></th>\n",
       "      <th></th>\n",
       "      <th></th>\n",
       "      <th></th>\n",
       "      <th></th>\n",
       "      <th></th>\n",
       "      <th></th>\n",
       "      <th></th>\n",
       "      <th></th>\n",
       "      <th></th>\n",
       "      <th></th>\n",
       "      <th></th>\n",
       "      <th></th>\n",
       "      <th></th>\n",
       "    </tr>\n",
       "  </thead>\n",
       "  <tbody>\n",
       "    <tr>\n",
       "      <th>1</th>\n",
       "      <td>0.00632</td>\n",
       "      <td>18.0</td>\n",
       "      <td>2.31</td>\n",
       "      <td>0</td>\n",
       "      <td>0.538</td>\n",
       "      <td>6.575</td>\n",
       "      <td>65.2</td>\n",
       "      <td>4.0900</td>\n",
       "      <td>1</td>\n",
       "      <td>296</td>\n",
       "      <td>15.3</td>\n",
       "      <td>396.90</td>\n",
       "      <td>4.98</td>\n",
       "      <td>24.0</td>\n",
       "    </tr>\n",
       "    <tr>\n",
       "      <th>2</th>\n",
       "      <td>0.02731</td>\n",
       "      <td>0.0</td>\n",
       "      <td>7.07</td>\n",
       "      <td>0</td>\n",
       "      <td>0.469</td>\n",
       "      <td>6.421</td>\n",
       "      <td>78.9</td>\n",
       "      <td>4.9671</td>\n",
       "      <td>2</td>\n",
       "      <td>242</td>\n",
       "      <td>17.8</td>\n",
       "      <td>396.90</td>\n",
       "      <td>9.14</td>\n",
       "      <td>21.6</td>\n",
       "    </tr>\n",
       "    <tr>\n",
       "      <th>4</th>\n",
       "      <td>0.03237</td>\n",
       "      <td>0.0</td>\n",
       "      <td>2.18</td>\n",
       "      <td>0</td>\n",
       "      <td>0.458</td>\n",
       "      <td>6.998</td>\n",
       "      <td>45.8</td>\n",
       "      <td>6.0622</td>\n",
       "      <td>3</td>\n",
       "      <td>222</td>\n",
       "      <td>18.7</td>\n",
       "      <td>394.63</td>\n",
       "      <td>2.94</td>\n",
       "      <td>33.4</td>\n",
       "    </tr>\n",
       "    <tr>\n",
       "      <th>5</th>\n",
       "      <td>0.06905</td>\n",
       "      <td>0.0</td>\n",
       "      <td>2.18</td>\n",
       "      <td>0</td>\n",
       "      <td>0.458</td>\n",
       "      <td>7.147</td>\n",
       "      <td>54.2</td>\n",
       "      <td>6.0622</td>\n",
       "      <td>3</td>\n",
       "      <td>222</td>\n",
       "      <td>18.7</td>\n",
       "      <td>396.90</td>\n",
       "      <td>5.33</td>\n",
       "      <td>36.2</td>\n",
       "    </tr>\n",
       "    <tr>\n",
       "      <th>7</th>\n",
       "      <td>0.08829</td>\n",
       "      <td>12.5</td>\n",
       "      <td>7.87</td>\n",
       "      <td>0</td>\n",
       "      <td>0.524</td>\n",
       "      <td>6.012</td>\n",
       "      <td>66.6</td>\n",
       "      <td>5.5605</td>\n",
       "      <td>5</td>\n",
       "      <td>311</td>\n",
       "      <td>15.2</td>\n",
       "      <td>395.60</td>\n",
       "      <td>12.43</td>\n",
       "      <td>22.9</td>\n",
       "    </tr>\n",
       "    <tr>\n",
       "      <th>11</th>\n",
       "      <td>0.22489</td>\n",
       "      <td>12.5</td>\n",
       "      <td>7.87</td>\n",
       "      <td>0</td>\n",
       "      <td>0.524</td>\n",
       "      <td>6.377</td>\n",
       "      <td>94.3</td>\n",
       "      <td>6.3467</td>\n",
       "      <td>5</td>\n",
       "      <td>311</td>\n",
       "      <td>15.2</td>\n",
       "      <td>392.52</td>\n",
       "      <td>20.45</td>\n",
       "      <td>15.0</td>\n",
       "    </tr>\n",
       "    <tr>\n",
       "      <th>12</th>\n",
       "      <td>0.11747</td>\n",
       "      <td>12.5</td>\n",
       "      <td>7.87</td>\n",
       "      <td>0</td>\n",
       "      <td>0.524</td>\n",
       "      <td>6.009</td>\n",
       "      <td>82.9</td>\n",
       "      <td>6.2267</td>\n",
       "      <td>5</td>\n",
       "      <td>311</td>\n",
       "      <td>15.2</td>\n",
       "      <td>396.90</td>\n",
       "      <td>13.27</td>\n",
       "      <td>18.9</td>\n",
       "    </tr>\n",
       "    <tr>\n",
       "      <th>13</th>\n",
       "      <td>0.09378</td>\n",
       "      <td>12.5</td>\n",
       "      <td>7.87</td>\n",
       "      <td>0</td>\n",
       "      <td>0.524</td>\n",
       "      <td>5.889</td>\n",
       "      <td>39.0</td>\n",
       "      <td>5.4509</td>\n",
       "      <td>5</td>\n",
       "      <td>311</td>\n",
       "      <td>15.2</td>\n",
       "      <td>390.50</td>\n",
       "      <td>15.71</td>\n",
       "      <td>21.7</td>\n",
       "    </tr>\n",
       "    <tr>\n",
       "      <th>14</th>\n",
       "      <td>0.62976</td>\n",
       "      <td>0.0</td>\n",
       "      <td>8.14</td>\n",
       "      <td>0</td>\n",
       "      <td>0.538</td>\n",
       "      <td>5.949</td>\n",
       "      <td>61.8</td>\n",
       "      <td>4.7075</td>\n",
       "      <td>4</td>\n",
       "      <td>307</td>\n",
       "      <td>21.0</td>\n",
       "      <td>396.90</td>\n",
       "      <td>8.26</td>\n",
       "      <td>20.4</td>\n",
       "    </tr>\n",
       "    <tr>\n",
       "      <th>15</th>\n",
       "      <td>0.63796</td>\n",
       "      <td>0.0</td>\n",
       "      <td>8.14</td>\n",
       "      <td>0</td>\n",
       "      <td>0.538</td>\n",
       "      <td>6.096</td>\n",
       "      <td>84.5</td>\n",
       "      <td>4.4619</td>\n",
       "      <td>4</td>\n",
       "      <td>307</td>\n",
       "      <td>21.0</td>\n",
       "      <td>380.02</td>\n",
       "      <td>10.26</td>\n",
       "      <td>18.2</td>\n",
       "    </tr>\n",
       "  </tbody>\n",
       "</table>\n",
       "</div>"
      ],
      "text/plain": [
       "       crim    zn  indus  chas    nox     rm   age     dis  rad  tax  ptratio  \\\n",
       "ID                                                                              \n",
       "1   0.00632  18.0   2.31     0  0.538  6.575  65.2  4.0900    1  296     15.3   \n",
       "2   0.02731   0.0   7.07     0  0.469  6.421  78.9  4.9671    2  242     17.8   \n",
       "4   0.03237   0.0   2.18     0  0.458  6.998  45.8  6.0622    3  222     18.7   \n",
       "5   0.06905   0.0   2.18     0  0.458  7.147  54.2  6.0622    3  222     18.7   \n",
       "7   0.08829  12.5   7.87     0  0.524  6.012  66.6  5.5605    5  311     15.2   \n",
       "11  0.22489  12.5   7.87     0  0.524  6.377  94.3  6.3467    5  311     15.2   \n",
       "12  0.11747  12.5   7.87     0  0.524  6.009  82.9  6.2267    5  311     15.2   \n",
       "13  0.09378  12.5   7.87     0  0.524  5.889  39.0  5.4509    5  311     15.2   \n",
       "14  0.62976   0.0   8.14     0  0.538  5.949  61.8  4.7075    4  307     21.0   \n",
       "15  0.63796   0.0   8.14     0  0.538  6.096  84.5  4.4619    4  307     21.0   \n",
       "\n",
       "     black  lstat  medv  \n",
       "ID                       \n",
       "1   396.90   4.98  24.0  \n",
       "2   396.90   9.14  21.6  \n",
       "4   394.63   2.94  33.4  \n",
       "5   396.90   5.33  36.2  \n",
       "7   395.60  12.43  22.9  \n",
       "11  392.52  20.45  15.0  \n",
       "12  396.90  13.27  18.9  \n",
       "13  390.50  15.71  21.7  \n",
       "14  396.90   8.26  20.4  \n",
       "15  380.02  10.26  18.2  "
      ]
     },
     "execution_count": 5,
     "metadata": {},
     "output_type": "execute_result"
    }
   ],
   "source": [
    "df.head(10)"
   ]
  },
  {
   "cell_type": "code",
   "execution_count": 6,
   "metadata": {
    "colab": {},
    "colab_type": "code",
    "id": "PFDvoHLv9Y5t",
    "outputId": "f6f3be7f-2060-499b-bd17-9e3ca6472df8"
   },
   "outputs": [
    {
     "data": {
      "text/html": [
       "<div>\n",
       "<style scoped>\n",
       "    .dataframe tbody tr th:only-of-type {\n",
       "        vertical-align: middle;\n",
       "    }\n",
       "\n",
       "    .dataframe tbody tr th {\n",
       "        vertical-align: top;\n",
       "    }\n",
       "\n",
       "    .dataframe thead th {\n",
       "        text-align: right;\n",
       "    }\n",
       "</style>\n",
       "<table border=\"1\" class=\"dataframe\">\n",
       "  <thead>\n",
       "    <tr style=\"text-align: right;\">\n",
       "      <th></th>\n",
       "      <th>crim</th>\n",
       "      <th>zn</th>\n",
       "      <th>indus</th>\n",
       "      <th>chas</th>\n",
       "      <th>nox</th>\n",
       "      <th>rm</th>\n",
       "      <th>age</th>\n",
       "      <th>dis</th>\n",
       "      <th>rad</th>\n",
       "      <th>tax</th>\n",
       "      <th>ptratio</th>\n",
       "      <th>black</th>\n",
       "      <th>lstat</th>\n",
       "      <th>medv</th>\n",
       "    </tr>\n",
       "  </thead>\n",
       "  <tbody>\n",
       "    <tr>\n",
       "      <th>count</th>\n",
       "      <td>333.000000</td>\n",
       "      <td>333.000000</td>\n",
       "      <td>333.000000</td>\n",
       "      <td>333.000000</td>\n",
       "      <td>333.000000</td>\n",
       "      <td>333.000000</td>\n",
       "      <td>333.000000</td>\n",
       "      <td>333.000000</td>\n",
       "      <td>333.000000</td>\n",
       "      <td>333.000000</td>\n",
       "      <td>333.000000</td>\n",
       "      <td>333.000000</td>\n",
       "      <td>333.000000</td>\n",
       "      <td>333.000000</td>\n",
       "    </tr>\n",
       "    <tr>\n",
       "      <th>mean</th>\n",
       "      <td>3.360341</td>\n",
       "      <td>10.689189</td>\n",
       "      <td>11.293483</td>\n",
       "      <td>0.060060</td>\n",
       "      <td>0.557144</td>\n",
       "      <td>6.265619</td>\n",
       "      <td>68.226426</td>\n",
       "      <td>3.709934</td>\n",
       "      <td>9.633634</td>\n",
       "      <td>409.279279</td>\n",
       "      <td>18.448048</td>\n",
       "      <td>359.466096</td>\n",
       "      <td>12.515435</td>\n",
       "      <td>22.768769</td>\n",
       "    </tr>\n",
       "    <tr>\n",
       "      <th>std</th>\n",
       "      <td>7.352272</td>\n",
       "      <td>22.674762</td>\n",
       "      <td>6.998123</td>\n",
       "      <td>0.237956</td>\n",
       "      <td>0.114955</td>\n",
       "      <td>0.703952</td>\n",
       "      <td>28.133344</td>\n",
       "      <td>1.981123</td>\n",
       "      <td>8.742174</td>\n",
       "      <td>170.841988</td>\n",
       "      <td>2.151821</td>\n",
       "      <td>86.584567</td>\n",
       "      <td>7.067781</td>\n",
       "      <td>9.173468</td>\n",
       "    </tr>\n",
       "    <tr>\n",
       "      <th>min</th>\n",
       "      <td>0.006320</td>\n",
       "      <td>0.000000</td>\n",
       "      <td>0.740000</td>\n",
       "      <td>0.000000</td>\n",
       "      <td>0.385000</td>\n",
       "      <td>3.561000</td>\n",
       "      <td>6.000000</td>\n",
       "      <td>1.129600</td>\n",
       "      <td>1.000000</td>\n",
       "      <td>188.000000</td>\n",
       "      <td>12.600000</td>\n",
       "      <td>3.500000</td>\n",
       "      <td>1.730000</td>\n",
       "      <td>5.000000</td>\n",
       "    </tr>\n",
       "    <tr>\n",
       "      <th>25%</th>\n",
       "      <td>0.078960</td>\n",
       "      <td>0.000000</td>\n",
       "      <td>5.130000</td>\n",
       "      <td>0.000000</td>\n",
       "      <td>0.453000</td>\n",
       "      <td>5.884000</td>\n",
       "      <td>45.400000</td>\n",
       "      <td>2.122400</td>\n",
       "      <td>4.000000</td>\n",
       "      <td>279.000000</td>\n",
       "      <td>17.400000</td>\n",
       "      <td>376.730000</td>\n",
       "      <td>7.180000</td>\n",
       "      <td>17.400000</td>\n",
       "    </tr>\n",
       "    <tr>\n",
       "      <th>50%</th>\n",
       "      <td>0.261690</td>\n",
       "      <td>0.000000</td>\n",
       "      <td>9.900000</td>\n",
       "      <td>0.000000</td>\n",
       "      <td>0.538000</td>\n",
       "      <td>6.202000</td>\n",
       "      <td>76.700000</td>\n",
       "      <td>3.092300</td>\n",
       "      <td>5.000000</td>\n",
       "      <td>330.000000</td>\n",
       "      <td>19.000000</td>\n",
       "      <td>392.050000</td>\n",
       "      <td>10.970000</td>\n",
       "      <td>21.600000</td>\n",
       "    </tr>\n",
       "    <tr>\n",
       "      <th>75%</th>\n",
       "      <td>3.678220</td>\n",
       "      <td>12.500000</td>\n",
       "      <td>18.100000</td>\n",
       "      <td>0.000000</td>\n",
       "      <td>0.631000</td>\n",
       "      <td>6.595000</td>\n",
       "      <td>93.800000</td>\n",
       "      <td>5.116700</td>\n",
       "      <td>24.000000</td>\n",
       "      <td>666.000000</td>\n",
       "      <td>20.200000</td>\n",
       "      <td>396.240000</td>\n",
       "      <td>16.420000</td>\n",
       "      <td>25.000000</td>\n",
       "    </tr>\n",
       "    <tr>\n",
       "      <th>max</th>\n",
       "      <td>73.534100</td>\n",
       "      <td>100.000000</td>\n",
       "      <td>27.740000</td>\n",
       "      <td>1.000000</td>\n",
       "      <td>0.871000</td>\n",
       "      <td>8.725000</td>\n",
       "      <td>100.000000</td>\n",
       "      <td>10.710300</td>\n",
       "      <td>24.000000</td>\n",
       "      <td>711.000000</td>\n",
       "      <td>21.200000</td>\n",
       "      <td>396.900000</td>\n",
       "      <td>37.970000</td>\n",
       "      <td>50.000000</td>\n",
       "    </tr>\n",
       "  </tbody>\n",
       "</table>\n",
       "</div>"
      ],
      "text/plain": [
       "             crim          zn       indus        chas         nox          rm  \\\n",
       "count  333.000000  333.000000  333.000000  333.000000  333.000000  333.000000   \n",
       "mean     3.360341   10.689189   11.293483    0.060060    0.557144    6.265619   \n",
       "std      7.352272   22.674762    6.998123    0.237956    0.114955    0.703952   \n",
       "min      0.006320    0.000000    0.740000    0.000000    0.385000    3.561000   \n",
       "25%      0.078960    0.000000    5.130000    0.000000    0.453000    5.884000   \n",
       "50%      0.261690    0.000000    9.900000    0.000000    0.538000    6.202000   \n",
       "75%      3.678220   12.500000   18.100000    0.000000    0.631000    6.595000   \n",
       "max     73.534100  100.000000   27.740000    1.000000    0.871000    8.725000   \n",
       "\n",
       "              age         dis         rad         tax     ptratio       black  \\\n",
       "count  333.000000  333.000000  333.000000  333.000000  333.000000  333.000000   \n",
       "mean    68.226426    3.709934    9.633634  409.279279   18.448048  359.466096   \n",
       "std     28.133344    1.981123    8.742174  170.841988    2.151821   86.584567   \n",
       "min      6.000000    1.129600    1.000000  188.000000   12.600000    3.500000   \n",
       "25%     45.400000    2.122400    4.000000  279.000000   17.400000  376.730000   \n",
       "50%     76.700000    3.092300    5.000000  330.000000   19.000000  392.050000   \n",
       "75%     93.800000    5.116700   24.000000  666.000000   20.200000  396.240000   \n",
       "max    100.000000   10.710300   24.000000  711.000000   21.200000  396.900000   \n",
       "\n",
       "            lstat        medv  \n",
       "count  333.000000  333.000000  \n",
       "mean    12.515435   22.768769  \n",
       "std      7.067781    9.173468  \n",
       "min      1.730000    5.000000  \n",
       "25%      7.180000   17.400000  \n",
       "50%     10.970000   21.600000  \n",
       "75%     16.420000   25.000000  \n",
       "max     37.970000   50.000000  "
      ]
     },
     "execution_count": 6,
     "metadata": {},
     "output_type": "execute_result"
    }
   ],
   "source": [
    "df.describe()"
   ]
  },
  {
   "cell_type": "code",
   "execution_count": 7,
   "metadata": {
    "colab": {},
    "colab_type": "code",
    "id": "F_14yigE9Y55",
    "outputId": "73a01d9c-ae00-4dfa-f69c-a1c896cd5e5d"
   },
   "outputs": [
    {
     "name": "stdout",
     "output_type": "stream",
     "text": [
      "<class 'pandas.core.frame.DataFrame'>\n",
      "Int64Index: 333 entries, 1 to 506\n",
      "Data columns (total 14 columns):\n",
      " #   Column   Non-Null Count  Dtype  \n",
      "---  ------   --------------  -----  \n",
      " 0   crim     333 non-null    float64\n",
      " 1   zn       333 non-null    float64\n",
      " 2   indus    333 non-null    float64\n",
      " 3   chas     333 non-null    int64  \n",
      " 4   nox      333 non-null    float64\n",
      " 5   rm       333 non-null    float64\n",
      " 6   age      333 non-null    float64\n",
      " 7   dis      333 non-null    float64\n",
      " 8   rad      333 non-null    int64  \n",
      " 9   tax      333 non-null    int64  \n",
      " 10  ptratio  333 non-null    float64\n",
      " 11  black    333 non-null    float64\n",
      " 12  lstat    333 non-null    float64\n",
      " 13  medv     333 non-null    float64\n",
      "dtypes: float64(11), int64(3)\n",
      "memory usage: 39.0 KB\n"
     ]
    }
   ],
   "source": [
    "df.info()"
   ]
  },
  {
   "cell_type": "markdown",
   "metadata": {
    "colab_type": "text",
    "id": "cWpLqx3s9Y6C"
   },
   "source": [
    "## Visualization"
   ]
  },
  {
   "cell_type": "code",
   "execution_count": 8,
   "metadata": {
    "colab": {},
    "colab_type": "code",
    "id": "fGeqKdRV9Y6F",
    "outputId": "e385474b-0761-4546-a4e5-1cab22cafd16"
   },
   "outputs": [
    {
     "data": {
      "text/plain": [
       "<seaborn.axisgrid.JointGrid at 0x19e0f6d33c8>"
      ]
     },
     "execution_count": 8,
     "metadata": {},
     "output_type": "execute_result"
    },
    {
     "data": {
      "image/png": "[encoded data removed]",
      "text/plain": [
       "<Figure size 432x432 with 3 Axes>"
      ]
     },
     "metadata": {
      "needs_background": "light"
     },
     "output_type": "display_data"
    }
   ],
   "source": [
    "sns.jointplot('age','medv',data=df)"
   ]
  },
  {
   "cell_type": "code",
   "execution_count": 9,
   "metadata": {
    "colab": {},
    "colab_type": "code",
    "id": "brAyv9ap9Y6P",
    "outputId": "e56b7b59-5e8b-4f1d-e18e-38139f1db6bb"
   },
   "outputs": [
    {
     "data": {
      "text/plain": [
       "<seaborn.axisgrid.JointGrid at 0x19e0f7ba308>"
      ]
     },
     "execution_count": 9,
     "metadata": {},
     "output_type": "execute_result"
    },
    {
     "data": {
      "image/png": "[encoded data removed]",
      "text/plain": [
       "<Figure size 432x432 with 3 Axes>"
      ]
     },
     "metadata": {
      "needs_background": "light"
     },
     "output_type": "display_data"
    }
   ],
   "source": [
    "sns.jointplot('rm','medv',df)"
   ]
  },
  {
   "cell_type": "markdown",
   "metadata": {
    "colab_type": "text",
    "id": "lY_z-ozW9Y6X"
   },
   "source": [
    "we can see that medv is highly correlated with rm"
   ]
  },
  {
   "cell_type": "code",
   "execution_count": 10,
   "metadata": {
    "colab": {},
    "colab_type": "code",
    "id": "ZdAzHuVv9Y6Z",
    "outputId": "c35c1b2a-90ce-4c02-eb9f-1ed5312a1ca7"
   },
   "outputs": [
    {
     "data": {
      "text/plain": [
       "<seaborn.axisgrid.JointGrid at 0x19e0fa32508>"
      ]
     },
     "execution_count": 10,
     "metadata": {},
     "output_type": "execute_result"
    },
    {
     "data": {
      "image/png": "[encoded data removed]",
      "text/plain": [
       "<Figure size 432x432 with 3 Axes>"
      ]
     },
     "metadata": {
      "needs_background": "light"
     },
     "output_type": "display_data"
    }
   ],
   "source": [
    "sns.jointplot('lstat','medv',df)"
   ]
  },
  {
   "cell_type": "markdown",
   "metadata": {
    "colab_type": "text",
    "id": "_h81EfOZ9Y6g"
   },
   "source": [
    "We can see for the lower values of lstat , medv is also decreasing"
   ]
  },
  {
   "cell_type": "markdown",
   "metadata": {
    "colab_type": "text",
    "id": "1RQdq3oN9Y6i"
   },
   "source": [
    "## Model\n",
    "\n",
    "Let's build our model by importing it from sklearn library"
   ]
  },
  {
   "cell_type": "code",
   "execution_count": 11,
   "metadata": {
    "colab": {},
    "colab_type": "code",
    "id": "qGCwkzpc9Y6j"
   },
   "outputs": [],
   "source": [
    "from sklearn.linear_model import LinearRegression"
   ]
  },
  {
   "cell_type": "code",
   "execution_count": 91,
   "metadata": {
    "colab": {},
    "colab_type": "code",
    "id": "K4xlM00B9Y6t"
   },
   "outputs": [],
   "source": [
    "model = LinearRegression()     #initializing the model"
   ]
  },
  {
   "cell_type": "code",
   "execution_count": 13,
   "metadata": {},
   "outputs": [
    {
     "data": {
      "text/html": [
       "<div>\n",
       "<style scoped>\n",
       "    .dataframe tbody tr th:only-of-type {\n",
       "        vertical-align: middle;\n",
       "    }\n",
       "\n",
       "    .dataframe tbody tr th {\n",
       "        vertical-align: top;\n",
       "    }\n",
       "\n",
       "    .dataframe thead th {\n",
       "        text-align: right;\n",
       "    }\n",
       "</style>\n",
       "<table border=\"1\" class=\"dataframe\">\n",
       "  <thead>\n",
       "    <tr style=\"text-align: right;\">\n",
       "      <th></th>\n",
       "      <th>crim</th>\n",
       "      <th>zn</th>\n",
       "      <th>indus</th>\n",
       "      <th>chas</th>\n",
       "      <th>nox</th>\n",
       "      <th>rm</th>\n",
       "      <th>age</th>\n",
       "      <th>dis</th>\n",
       "      <th>rad</th>\n",
       "      <th>tax</th>\n",
       "      <th>ptratio</th>\n",
       "      <th>black</th>\n",
       "      <th>lstat</th>\n",
       "      <th>medv</th>\n",
       "    </tr>\n",
       "    <tr>\n",
       "      <th>ID</th>\n",
       "      <th></th>\n",
       "      <th></th>\n",
       "      <th></th>\n",
       "      <th></th>\n",
       "      <th></th>\n",
       "      <th></th>\n",
       "      <th></th>\n",
       "      <th></th>\n",
       "      <th></th>\n",
       "      <th></th>\n",
       "      <th></th>\n",
       "      <th></th>\n",
       "      <th></th>\n",
       "      <th></th>\n",
       "    </tr>\n",
       "  </thead>\n",
       "  <tbody>\n",
       "    <tr>\n",
       "      <th>1</th>\n",
       "      <td>0.00632</td>\n",
       "      <td>18.0</td>\n",
       "      <td>2.31</td>\n",
       "      <td>0</td>\n",
       "      <td>0.538</td>\n",
       "      <td>6.575</td>\n",
       "      <td>65.2</td>\n",
       "      <td>4.0900</td>\n",
       "      <td>1</td>\n",
       "      <td>296</td>\n",
       "      <td>15.3</td>\n",
       "      <td>396.90</td>\n",
       "      <td>4.98</td>\n",
       "      <td>24.0</td>\n",
       "    </tr>\n",
       "    <tr>\n",
       "      <th>2</th>\n",
       "      <td>0.02731</td>\n",
       "      <td>0.0</td>\n",
       "      <td>7.07</td>\n",
       "      <td>0</td>\n",
       "      <td>0.469</td>\n",
       "      <td>6.421</td>\n",
       "      <td>78.9</td>\n",
       "      <td>4.9671</td>\n",
       "      <td>2</td>\n",
       "      <td>242</td>\n",
       "      <td>17.8</td>\n",
       "      <td>396.90</td>\n",
       "      <td>9.14</td>\n",
       "      <td>21.6</td>\n",
       "    </tr>\n",
       "    <tr>\n",
       "      <th>4</th>\n",
       "      <td>0.03237</td>\n",
       "      <td>0.0</td>\n",
       "      <td>2.18</td>\n",
       "      <td>0</td>\n",
       "      <td>0.458</td>\n",
       "      <td>6.998</td>\n",
       "      <td>45.8</td>\n",
       "      <td>6.0622</td>\n",
       "      <td>3</td>\n",
       "      <td>222</td>\n",
       "      <td>18.7</td>\n",
       "      <td>394.63</td>\n",
       "      <td>2.94</td>\n",
       "      <td>33.4</td>\n",
       "    </tr>\n",
       "    <tr>\n",
       "      <th>5</th>\n",
       "      <td>0.06905</td>\n",
       "      <td>0.0</td>\n",
       "      <td>2.18</td>\n",
       "      <td>0</td>\n",
       "      <td>0.458</td>\n",
       "      <td>7.147</td>\n",
       "      <td>54.2</td>\n",
       "      <td>6.0622</td>\n",
       "      <td>3</td>\n",
       "      <td>222</td>\n",
       "      <td>18.7</td>\n",
       "      <td>396.90</td>\n",
       "      <td>5.33</td>\n",
       "      <td>36.2</td>\n",
       "    </tr>\n",
       "    <tr>\n",
       "      <th>7</th>\n",
       "      <td>0.08829</td>\n",
       "      <td>12.5</td>\n",
       "      <td>7.87</td>\n",
       "      <td>0</td>\n",
       "      <td>0.524</td>\n",
       "      <td>6.012</td>\n",
       "      <td>66.6</td>\n",
       "      <td>5.5605</td>\n",
       "      <td>5</td>\n",
       "      <td>311</td>\n",
       "      <td>15.2</td>\n",
       "      <td>395.60</td>\n",
       "      <td>12.43</td>\n",
       "      <td>22.9</td>\n",
       "    </tr>\n",
       "    <tr>\n",
       "      <th>...</th>\n",
       "      <td>...</td>\n",
       "      <td>...</td>\n",
       "      <td>...</td>\n",
       "      <td>...</td>\n",
       "      <td>...</td>\n",
       "      <td>...</td>\n",
       "      <td>...</td>\n",
       "      <td>...</td>\n",
       "      <td>...</td>\n",
       "      <td>...</td>\n",
       "      <td>...</td>\n",
       "      <td>...</td>\n",
       "      <td>...</td>\n",
       "      <td>...</td>\n",
       "    </tr>\n",
       "    <tr>\n",
       "      <th>500</th>\n",
       "      <td>0.17783</td>\n",
       "      <td>0.0</td>\n",
       "      <td>9.69</td>\n",
       "      <td>0</td>\n",
       "      <td>0.585</td>\n",
       "      <td>5.569</td>\n",
       "      <td>73.5</td>\n",
       "      <td>2.3999</td>\n",
       "      <td>6</td>\n",
       "      <td>391</td>\n",
       "      <td>19.2</td>\n",
       "      <td>395.77</td>\n",
       "      <td>15.10</td>\n",
       "      <td>17.5</td>\n",
       "    </tr>\n",
       "    <tr>\n",
       "      <th>502</th>\n",
       "      <td>0.06263</td>\n",
       "      <td>0.0</td>\n",
       "      <td>11.93</td>\n",
       "      <td>0</td>\n",
       "      <td>0.573</td>\n",
       "      <td>6.593</td>\n",
       "      <td>69.1</td>\n",
       "      <td>2.4786</td>\n",
       "      <td>1</td>\n",
       "      <td>273</td>\n",
       "      <td>21.0</td>\n",
       "      <td>391.99</td>\n",
       "      <td>9.67</td>\n",
       "      <td>22.4</td>\n",
       "    </tr>\n",
       "    <tr>\n",
       "      <th>503</th>\n",
       "      <td>0.04527</td>\n",
       "      <td>0.0</td>\n",
       "      <td>11.93</td>\n",
       "      <td>0</td>\n",
       "      <td>0.573</td>\n",
       "      <td>6.120</td>\n",
       "      <td>76.7</td>\n",
       "      <td>2.2875</td>\n",
       "      <td>1</td>\n",
       "      <td>273</td>\n",
       "      <td>21.0</td>\n",
       "      <td>396.90</td>\n",
       "      <td>9.08</td>\n",
       "      <td>20.6</td>\n",
       "    </tr>\n",
       "    <tr>\n",
       "      <th>504</th>\n",
       "      <td>0.06076</td>\n",
       "      <td>0.0</td>\n",
       "      <td>11.93</td>\n",
       "      <td>0</td>\n",
       "      <td>0.573</td>\n",
       "      <td>6.976</td>\n",
       "      <td>91.0</td>\n",
       "      <td>2.1675</td>\n",
       "      <td>1</td>\n",
       "      <td>273</td>\n",
       "      <td>21.0</td>\n",
       "      <td>396.90</td>\n",
       "      <td>5.64</td>\n",
       "      <td>23.9</td>\n",
       "    </tr>\n",
       "    <tr>\n",
       "      <th>506</th>\n",
       "      <td>0.04741</td>\n",
       "      <td>0.0</td>\n",
       "      <td>11.93</td>\n",
       "      <td>0</td>\n",
       "      <td>0.573</td>\n",
       "      <td>6.030</td>\n",
       "      <td>80.8</td>\n",
       "      <td>2.5050</td>\n",
       "      <td>1</td>\n",
       "      <td>273</td>\n",
       "      <td>21.0</td>\n",
       "      <td>396.90</td>\n",
       "      <td>7.88</td>\n",
       "      <td>11.9</td>\n",
       "    </tr>\n",
       "  </tbody>\n",
       "</table>\n",
       "<p>333 rows × 14 columns</p>\n",
       "</div>"
      ],
      "text/plain": [
       "        crim    zn  indus  chas    nox     rm   age     dis  rad  tax  \\\n",
       "ID                                                                      \n",
       "1    0.00632  18.0   2.31     0  0.538  6.575  65.2  4.0900    1  296   \n",
       "2    0.02731   0.0   7.07     0  0.469  6.421  78.9  4.9671    2  242   \n",
       "4    0.03237   0.0   2.18     0  0.458  6.998  45.8  6.0622    3  222   \n",
       "5    0.06905   0.0   2.18     0  0.458  7.147  54.2  6.0622    3  222   \n",
       "7    0.08829  12.5   7.87     0  0.524  6.012  66.6  5.5605    5  311   \n",
       "..       ...   ...    ...   ...    ...    ...   ...     ...  ...  ...   \n",
       "500  0.17783   0.0   9.69     0  0.585  5.569  73.5  2.3999    6  391   \n",
       "502  0.06263   0.0  11.93     0  0.573  6.593  69.1  2.4786    1  273   \n",
       "503  0.04527   0.0  11.93     0  0.573  6.120  76.7  2.2875    1  273   \n",
       "504  0.06076   0.0  11.93     0  0.573  6.976  91.0  2.1675    1  273   \n",
       "506  0.04741   0.0  11.93     0  0.573  6.030  80.8  2.5050    1  273   \n",
       "\n",
       "     ptratio   black  lstat  medv  \n",
       "ID                                 \n",
       "1       15.3  396.90   4.98  24.0  \n",
       "2       17.8  396.90   9.14  21.6  \n",
       "4       18.7  394.63   2.94  33.4  \n",
       "5       18.7  396.90   5.33  36.2  \n",
       "7       15.2  395.60  12.43  22.9  \n",
       "..       ...     ...    ...   ...  \n",
       "500     19.2  395.77  15.10  17.5  \n",
       "502     21.0  391.99   9.67  22.4  \n",
       "503     21.0  396.90   9.08  20.6  \n",
       "504     21.0  396.90   5.64  23.9  \n",
       "506     21.0  396.90   7.88  11.9  \n",
       "\n",
       "[333 rows x 14 columns]"
      ]
     },
     "execution_count": 13,
     "metadata": {},
     "output_type": "execute_result"
    }
   ],
   "source": [
    "df"
   ]
  },
  {
   "cell_type": "markdown",
   "metadata": {
    "colab_type": "text",
    "id": "HvOYh2bD9Y62"
   },
   "source": [
    "### Split the data\n",
    "\n",
    "We need to split the data in train and test set to evaluate how our model is doing with the new data."
   ]
  },
  {
   "cell_type": "code",
   "execution_count": 14,
   "metadata": {
    "colab": {},
    "colab_type": "code",
    "id": "tax8r3YG9Y64"
   },
   "outputs": [],
   "source": [
    "X = df.drop('medv',axis=1)\n",
    "y = df['medv']"
   ]
  },
  {
   "cell_type": "code",
   "execution_count": 16,
   "metadata": {
    "colab": {},
    "colab_type": "code",
    "id": "ze-xmNRM9Y7A",
    "outputId": "2f32aeaa-d020-4528-ca9c-6907361398e4"
   },
   "outputs": [
    {
     "data": {
      "text/plain": [
       "ID\n",
       "1    24.0\n",
       "2    21.6\n",
       "4    33.4\n",
       "5    36.2\n",
       "7    22.9\n",
       "Name: medv, dtype: float64"
      ]
     },
     "execution_count": 16,
     "metadata": {},
     "output_type": "execute_result"
    }
   ],
   "source": [
    "y.head()"
   ]
  },
  {
   "cell_type": "markdown",
   "metadata": {
    "colab_type": "text",
    "id": "Xkt11kXy9Y7I"
   },
   "source": [
    "We dropped the **medv** for X, since it's the target variable and we want to predict it."
   ]
  },
  {
   "cell_type": "code",
   "execution_count": 90,
   "metadata": {
    "colab": {},
    "colab_type": "code",
    "id": "Hwp4xYZ69Y7K",
    "outputId": "052a6214-87a7-47f3-f8a2-69b11d2476ea"
   },
   "outputs": [],
   "source": [
    "from sklearn.model_selection import train_test_split"
   ]
  },
  {
   "cell_type": "code",
   "execution_count": 88,
   "metadata": {
    "colab": {},
    "colab_type": "code",
    "id": "2hHqqXWW9Y7R"
   },
   "outputs": [],
   "source": [
    " X_train, X_test, y_train, y_test = train_test_split(X, y, test_size=0.20, random_state=42)"
   ]
  },
  {
   "cell_type": "markdown",
   "metadata": {
    "colab_type": "text",
    "id": "rxTVbw8q9Y7W"
   },
   "source": [
    "### Training the model\n",
    "Now we can train the linear regression on train set"
   ]
  },
  {
   "cell_type": "code",
   "execution_count": 94,
   "metadata": {},
   "outputs": [
    {
     "ename": "TypeError",
     "evalue": "__init__() got an unexpected keyword argument 'C'",
     "output_type": "error",
     "traceback": [
      "\u001b[1;31m---------------------------------------------------------------------------\u001b[0m",
      "\u001b[1;31mTypeError\u001b[0m                                 Traceback (most recent call last)",
      "\u001b[1;32m<ipython-input-94-2c3b34d35a77>\u001b[0m in \u001b[0;36m<module>\u001b[1;34m\u001b[0m\n\u001b[1;32m----> 1\u001b[1;33m \u001b[0mmodel\u001b[0m \u001b[1;33m=\u001b[0m \u001b[0mLinearRegression\u001b[0m\u001b[1;33m(\u001b[0m\u001b[0mC\u001b[0m\u001b[1;33m=\u001b[0m\u001b[1;36m1\u001b[0m\u001b[1;33m)\u001b[0m     \u001b[1;31m#initializing the model\u001b[0m\u001b[1;33m\u001b[0m\u001b[1;33m\u001b[0m\u001b[0m\n\u001b[0m",
      "\u001b[1;31mTypeError\u001b[0m: __init__() got an unexpected keyword argument 'C'"
     ]
    }
   ],
   "source": [
    "model = LinearRegression()     #initializing the model"
   ]
  },
  {
   "cell_type": "code",
   "execution_count": 89,
   "metadata": {
    "colab": {},
    "colab_type": "code",
    "id": "zcxcNfSJ9Y7X",
    "outputId": "f7686edd-82c4-4b6b-e39b-db42dee8f046"
   },
   "outputs": [
    {
     "data": {
      "text/plain": [
       "LinearRegression(copy_X=True, fit_intercept=True, n_jobs=None, normalize=False)"
      ]
     },
     "execution_count": 89,
     "metadata": {},
     "output_type": "execute_result"
    }
   ],
   "source": [
    "model.fit(X_train,y_train)"
   ]
  },
  {
   "cell_type": "markdown",
   "metadata": {
    "colab_type": "text",
    "id": "b_PnBrPF9Y7d"
   },
   "source": [
    "### Prediction"
   ]
  },
  {
   "cell_type": "code",
   "execution_count": 23,
   "metadata": {
    "colab": {},
    "colab_type": "code",
    "id": "sOVOReny9Y7d"
   },
   "outputs": [],
   "source": [
    "pred = model.predict(X_test)"
   ]
  },
  {
   "cell_type": "code",
   "execution_count": 24,
   "metadata": {
    "scrolled": true
   },
   "outputs": [
    {
     "data": {
      "text/plain": [
       "array([24.50141484, 23.35218616, 22.56081814, 33.27103664, 24.39179151,\n",
       "       14.38881491, 17.58440531, 30.22482519, 16.3814254 , 25.75001663,\n",
       "       25.95089381, 19.28314443, 20.40895745, 34.25669378, 21.96702176,\n",
       "       34.11284465, 22.27120348, 16.98697062, 24.94339935, 16.91612324,\n",
       "       35.99655208, 31.47377712, 23.19704537, 28.31771819, 15.95754574,\n",
       "       41.80363869,  7.41212947,  1.23819578, 31.13731355, 10.43444587,\n",
       "       19.36636029, 20.71859579, 27.04099002, 14.66393284, 19.12266966,\n",
       "       12.29750678, 27.99251079,  4.41875062, 16.59733342, 22.59503327,\n",
       "       23.5632186 , 21.51633999, 25.34424208, 39.23942244, 35.91224412,\n",
       "       20.90286402, 10.94306131, 20.84527047, 13.75217322, 20.60415019,\n",
       "       12.92310307, 28.70264392, 22.47376743, 12.8564295 , 33.7942933 ,\n",
       "        0.94447788, 19.55892129, 26.68148037, 25.22660633, 28.78595944,\n",
       "       18.10361954, 24.30249917, 18.18357009, 27.31291419, 22.9791363 ,\n",
       "       17.13583443, 26.03089024])"
      ]
     },
     "execution_count": 24,
     "metadata": {},
     "output_type": "execute_result"
    }
   ],
   "source": [
    "pred"
   ]
  },
  {
   "cell_type": "markdown",
   "metadata": {
    "colab_type": "text",
    "id": "qSDkWKGe9Y7h"
   },
   "source": [
    "## Model Evaluation"
   ]
  },
  {
   "cell_type": "code",
   "execution_count": 25,
   "metadata": {
    "colab": {},
    "colab_type": "code",
    "id": "tofTyJq79Y7i",
    "outputId": "056a1798-f080-4b2b-bca4-720aecc821f1"
   },
   "outputs": [
    {
     "data": {
      "text/plain": [
       "0.7256305671670327"
      ]
     },
     "execution_count": 25,
     "metadata": {},
     "output_type": "execute_result"
    }
   ],
   "source": [
    "model.score(X_train,y_train)"
   ]
  },
  {
   "cell_type": "code",
   "execution_count": 26,
   "metadata": {
    "colab": {},
    "colab_type": "code",
    "id": "jKwVmTCJ9Y7l",
    "outputId": "6344a1f8-fb62-41f7-e1f0-36c555d479ea"
   },
   "outputs": [
    {
     "data": {
      "text/plain": [
       "0.7390315860425432"
      ]
     },
     "execution_count": 26,
     "metadata": {},
     "output_type": "execute_result"
    }
   ],
   "source": [
    "model.score(X_test,y_test)"
   ]
  },
  {
   "cell_type": "code",
   "execution_count": 27,
   "metadata": {
    "colab": {},
    "colab_type": "code",
    "id": "VSvu-WEG9Y7o",
    "outputId": "5b2658ff-19a3-43f4-b12d-37c53d9d10e2"
   },
   "outputs": [
    {
     "data": {
      "text/plain": [
       "23.48673519542588"
      ]
     },
     "execution_count": 27,
     "metadata": {},
     "output_type": "execute_result"
    }
   ],
   "source": [
    "from sklearn.metrics import mean_squared_error\n",
    "mean_squared_error(y_test,pred)"
   ]
  },
  {
   "cell_type": "markdown",
   "metadata": {},
   "source": [
    "## Scaling\\"
   ]
  },
  {
   "cell_type": "code",
   "execution_count": 28,
   "metadata": {
    "colab": {},
    "colab_type": "code",
    "id": "3_u_ebKV9Y7r"
   },
   "outputs": [],
   "source": [
    "from sklearn.preprocessing import StandardScaler"
   ]
  },
  {
   "cell_type": "code",
   "execution_count": 29,
   "metadata": {
    "colab": {},
    "colab_type": "code",
    "id": "1S0P651k9Y7t"
   },
   "outputs": [],
   "source": [
    "scaler = StandardScaler() # initializing"
   ]
  },
  {
   "cell_type": "code",
   "execution_count": 30,
   "metadata": {
    "colab": {},
    "colab_type": "code",
    "id": "RkppEKNC9Y7w"
   },
   "outputs": [],
   "source": [
    "X_train= scaler.fit_transform(X_train,y_train)"
   ]
  },
  {
   "cell_type": "code",
   "execution_count": 31,
   "metadata": {},
   "outputs": [
    {
     "data": {
      "text/plain": [
       "array([[-0.43566892, -0.47770707, -0.852503  , ...,  0.80858773,\n",
       "         0.42052006, -0.3762768 ],\n",
       "       [-0.42239133, -0.47770707, -0.15916158, ..., -0.32145257,\n",
       "         0.39152789, -0.29535425],\n",
       "       [ 0.21395232, -0.47770707,  1.00455876, ...,  0.80858773,\n",
       "        -3.77642989,  0.83611634],\n",
       "       ...,\n",
       "       [-0.2575645 , -0.47770707,  1.21745198, ..., -1.78108795,\n",
       "        -0.10121766, -0.85458685],\n",
       "       [ 3.14415287, -0.47770707,  1.00455876, ...,  0.80858773,\n",
       "        -2.84916573,  2.06585003],\n",
       "       [-0.21417344, -0.47770707,  1.21745198, ..., -1.78108795,\n",
       "         0.12817225,  0.25376302]])"
      ]
     },
     "execution_count": 31,
     "metadata": {},
     "output_type": "execute_result"
    }
   ],
   "source": [
    "X_train"
   ]
  },
  {
   "cell_type": "code",
   "execution_count": 32,
   "metadata": {
    "colab": {},
    "colab_type": "code",
    "id": "tikmaRGx9Y70"
   },
   "outputs": [],
   "source": [
    "X_test = scaler.transform(X_test)"
   ]
  },
  {
   "cell_type": "code",
   "execution_count": 33,
   "metadata": {
    "scrolled": true
   },
   "outputs": [
    {
     "data": {
      "text/plain": [
       "array([[-4.21232428e-01, -4.77707071e-01, -6.05086557e-01,\n",
       "        -2.52982213e-01, -9.28530119e-01, -8.50677649e-02,\n",
       "        -2.16746628e+00,  9.93350290e-01, -7.52918064e-01,\n",
       "        -1.01859821e+00, -2.74367553e-01,  3.90921360e-01,\n",
       "        -7.08637256e-01],\n",
       "       [ 1.15216083e-01, -4.77707071e-01,  1.00455876e+00,\n",
       "        -2.52982213e-01, -2.15054816e-01, -5.94156388e-02,\n",
       "         8.17027305e-01, -3.20914179e-01,  1.66420855e+00,\n",
       "         1.54325580e+00,  8.08587730e-01,  4.01474995e-01,\n",
       "         7.60224292e-02],\n",
       "       [-4.25566555e-01, -4.77707071e-01, -3.67739392e-01,\n",
       "        -2.52982213e-01, -3.16979860e-01,  2.89738300e-01,\n",
       "         1.04387717e+00, -6.54994833e-01, -5.22715530e-01,\n",
       "        -1.25203391e-01,  1.13818282e+00,  4.00383239e-01,\n",
       "        -1.06802984e-02],\n",
       "       [-4.38271606e-01,  2.85746566e+00, -8.87026219e-01,\n",
       "        -2.52982213e-01, -1.24279900e+00,  5.12056726e-01,\n",
       "        -1.56844084e+00,  6.90451834e-01, -6.37816797e-01,\n",
       "        -9.47599944e-01,  3.37737607e-01,  4.20520059e-01,\n",
       "        -1.10457971e+00],\n",
       "       [-4.36274643e-01, -4.77707071e-01, -9.53195732e-01,\n",
       "        -2.52982213e-01, -9.20036366e-01,  1.68603260e-01,\n",
       "        -6.96486661e-01,  5.21356089e-01, -7.52918064e-01,\n",
       "        -9.35766900e-01,  8.14252092e-03,  4.20520059e-01,\n",
       "        -3.93617345e-01],\n",
       "       [ 6.90818332e-01, -4.77707071e-01,  1.00455876e+00,\n",
       "        -2.52982213e-01,  1.32231459e+00, -4.76975247e-01,\n",
       "         4.48396268e-01, -4.81387195e-01,  1.66420855e+00,\n",
       "         1.54325580e+00,  8.08587730e-01, -4.35166362e+00,\n",
       "         6.64155932e-01],\n",
       "       [ 1.48086584e+00, -4.77707071e-01,  1.00455876e+00,\n",
       "        -2.52982213e-01,  1.32231459e+00, -8.93431193e-02,\n",
       "         9.69442060e-01, -7.60623275e-01,  1.66420855e+00,\n",
       "         1.54325580e+00,  8.08587730e-01, -3.17341705e+00,\n",
       "         4.08382885e-01],\n",
       "       [-3.34613498e-01,  3.56086111e-01, -1.02799605e+00,\n",
       "        -2.52982213e-01,  7.61726848e-01,  1.05930208e+00,\n",
       "         6.00811024e-01, -8.05391286e-01, -5.22715530e-01,\n",
       "        -8.35186027e-01, -2.58153316e+00,  2.64884277e-01,\n",
       "         3.53471158e-01],\n",
       "       [-3.99256163e-01, -4.77707071e-01, -1.74984725e-01,\n",
       "        -2.52982213e-01, -1.13129773e-01, -5.08327846e-01,\n",
       "         5.51187615e-01,  1.29924254e-01, -6.37816797e-01,\n",
       "        -5.98525148e-01, -3.89424914e-02,  3.45310250e-01,\n",
       "         8.65017251e-01],\n",
       "       [-4.35841784e-01, -4.77707071e-01,  4.03279277e-01,\n",
       "        -2.52982213e-01, -1.02196141e+00,  3.96622159e-01,\n",
       "        -5.90150786e-01,  1.11341679e+00, -6.37816797e-01,\n",
       "        -6.87272978e-01, -1.16898279e+00,  3.71391071e-01,\n",
       "        -7.15862483e-01],\n",
       "       [-4.29325381e-01, -4.77707071e-01, -1.59161580e-01,\n",
       "        -2.52982213e-01, -8.76485123e-02,  6.33191766e-01,\n",
       "         4.94475148e-01, -5.32371592e-01, -4.07614262e-01,\n",
       "         1.58789663e-01, -3.21452565e-01,  4.04628954e-01,\n",
       "        -3.15584891e-01],\n",
       "       [-3.55045022e-01, -4.77707071e-01, -4.28155034e-01,\n",
       "        -2.52982213e-01, -1.64092295e-01, -2.48956348e-01,\n",
       "         5.97266495e-01,  3.62186509e-01, -6.37816797e-01,\n",
       "        -5.80775583e-01,  1.18526783e+00,  2.15755289e-01,\n",
       "        -3.01134436e-01],\n",
       "       [-1.14329475e-01, -4.77707071e-01,  1.00455876e+00,\n",
       "        -2.52982213e-01,  2.18126618e-01, -5.69607925e-01,\n",
       "        -9.12702942e-01, -7.73863252e-03,  1.66420855e+00,\n",
       "         1.54325580e+00,  8.08587730e-01,  1.03061882e-01,\n",
       "         1.43939566e-01],\n",
       "       [-4.34160131e-01, -4.77707071e-01, -1.24520467e+00,\n",
       "        -2.52982213e-01, -5.88779975e-01,  2.12956579e+00,\n",
       "         5.54732144e-01, -5.00537676e-01, -7.52918064e-01,\n",
       "        -1.25525909e+00, -3.21452565e-01,  4.04265036e-01,\n",
       "        -6.91296710e-01],\n",
       "       [ 1.20949194e+00, -4.77707071e-01,  1.00455876e+00,\n",
       "        -2.52982213e-01,  8.63651892e-01, -9.44413990e-01,\n",
       "         1.14666852e+00, -1.23036153e+00,  1.66420855e+00,\n",
       "         1.54325580e+00,  8.08587730e-01, -3.65665056e-01,\n",
       "        -3.09109349e-02],\n",
       "       [-4.31695736e-01,  1.39832759e+00, -1.10423484e+00,\n",
       "        -2.52982213e-01, -1.02196141e+00,  1.30299728e+00,\n",
       "        -1.01903882e+00,  4.14725004e-01, -5.22715530e-01,\n",
       "        -4.23720840e-02, -1.54566288e+00,  4.20520059e-01,\n",
       "        -1.00487158e+00],\n",
       "       [-1.94303388e-01, -4.77707071e-01,  1.21745198e+00,\n",
       "        -2.52982213e-01,  4.04989197e-01, -5.61057216e-01,\n",
       "         4.09406447e-01, -6.58504084e-01, -5.22715530e-01,\n",
       "        -1.27894742e-02, -1.78108795e+00, -1.63307164e+00,\n",
       "        -2.94658894e-02],\n",
       "       [-3.91302887e-01, -4.77707071e-01, -7.57304556e-02,\n",
       "         3.95284708e+00, -5.80286222e-01, -1.23513809e+00,\n",
       "         7.42592192e-01, -3.73166016e-02, -6.37816797e-01,\n",
       "        -7.58271241e-01,  5.52275332e-02,  4.00383239e-01,\n",
       "         1.68146794e+00],\n",
       "       [-4.23590337e-01, -4.77707071e-01, -1.59161580e-01,\n",
       "        -2.52982213e-01, -8.76485123e-02, -2.37876859e-02,\n",
       "         5.86632907e-01, -7.43427948e-01, -4.07614262e-01,\n",
       "         1.58789663e-01, -3.21452565e-01,  3.21534246e-01,\n",
       "        -2.73678572e-01],\n",
       "       [ 4.76513582e+00, -4.77707071e-01,  1.00455876e+00,\n",
       "        -2.52982213e-01,  1.03352696e+00, -9.78938280e-02,\n",
       "         3.91683801e-01, -9.40748094e-01,  1.66420855e+00,\n",
       "         1.54325580e+00,  8.08587730e-01, -4.16582261e+00,\n",
       "         3.14454930e-01],\n",
       "       [-2.40897331e-01, -4.77707071e-01,  1.21745198e+00,\n",
       "        -2.52982213e-01,  4.04989197e-01,  1.73623319e+00,\n",
       "         8.20571834e-01, -8.86605371e-01, -5.22715530e-01,\n",
       "        -1.27894742e-02, -1.78108795e+00,  1.47945155e-01,\n",
       "        -1.53375821e+00],\n",
       "       [-4.41280878e-01,  2.02367247e+00, -1.17759669e+00,\n",
       "        -2.52982213e-01, -1.32773654e+00,  4.75003655e-01,\n",
       "        -1.73148919e+00,  1.24335933e+00, -9.83120599e-01,\n",
       "        -8.29269505e-01, -1.35732284e+00,  1.75481649e-01,\n",
       "        -1.15082117e+00],\n",
       "       [ 1.53899072e+00, -4.77707071e-01,  1.00455876e+00,\n",
       "        -2.52982213e-01,  4.81432979e-01, -5.94156388e-02,\n",
       "         7.21325016e-01, -8.96481405e-01,  1.66420855e+00,\n",
       "         1.54325580e+00,  8.08587730e-01,  2.55786316e-01,\n",
       "         1.10703520e-01],\n",
       "       [-4.38379475e-01,  9.39741338e-01, -7.23040905e-01,\n",
       "        -2.52982213e-01, -1.05593642e+00,  4.55052002e-01,\n",
       "        -9.65870880e-01,  8.78447400e-01, -2.92512995e-01,\n",
       "        -4.50612099e-01, -1.12189777e+00,  4.06569853e-01,\n",
       "        -4.10957891e-01],\n",
       "       [-4.12170036e-01,  4.34136675e-02, -4.66993661e-01,\n",
       "        -2.52982213e-01, -2.83004845e-01,  1.51501843e-01,\n",
       "         9.44630356e-01,  1.30707729e+00, -5.22715530e-01,\n",
       "        -5.57109495e-01, -1.54566288e+00,  3.67387968e-01,\n",
       "         1.17136689e+00],\n",
       "       [-2.33199899e-01, -4.77707071e-01,  1.21745198e+00,\n",
       "         3.95284708e+00,  4.04989197e-01,  2.99888784e+00,\n",
       "         9.30452239e-01, -7.90802830e-01, -5.22715530e-01,\n",
       "        -1.27894742e-02, -1.78108795e+00,  3.18016368e-01,\n",
       "        -1.30399599e+00],\n",
       "       [ 4.86054471e+00, -4.77707071e-01,  1.00455876e+00,\n",
       "        -2.52982213e-01,  1.15243951e+00, -1.16530730e+00,\n",
       "         1.14666852e+00, -1.12789141e+00,  1.66420855e+00,\n",
       "         1.54325580e+00,  8.08587730e-01,  4.20520059e-01,\n",
       "         2.63664299e+00],\n",
       "       [-4.14580497e-01, -4.77707071e-01,  2.39124159e+00,\n",
       "        -2.52982213e-01,  4.38964211e-01, -1.67834982e+00,\n",
       "         1.07577794e+00, -9.60951351e-01, -6.37816797e-01,\n",
       "         1.80949929e+00,  7.61502718e-01, -5.31369248e-01,\n",
       "         2.50514385e+00],\n",
       "       [-3.71277947e-01, -4.77707071e-01, -7.07217761e-01,\n",
       "         3.95284708e+00, -4.27398657e-01,  5.13481844e-01,\n",
       "         3.13704159e-01,  2.04821687e-01, -1.77411728e-01,\n",
       "        -5.80775583e-01, -5.09792614e-01,  3.18016368e-01,\n",
       "        -4.05177709e-01],\n",
       "       [-4.22407925e-01, -4.77707071e-01,  2.39124159e+00,\n",
       "        -2.52982213e-01,  4.38964211e-01, -1.16388218e+00,\n",
       "         8.87917889e-01, -9.61803597e-01, -6.37816797e-01,\n",
       "         1.80949929e+00,  7.61502718e-01,  3.98563647e-01,\n",
       "         8.26001023e-01],\n",
       "       [-3.96274549e-01,  4.39465429e-01, -7.56125662e-01,\n",
       "        -2.52982213e-01, -1.07292393e+00, -2.31854931e-01,\n",
       "        -1.16081999e+00,  2.16373549e+00, -2.92512995e-01,\n",
       "        -4.44695577e-01,  2.90652595e-01,  3.39002331e-01,\n",
       "        -4.60089437e-01],\n",
       "       [ 4.77063158e-01, -4.77707071e-01,  1.00455876e+00,\n",
       "        -2.52982213e-01,  1.32231459e+00,  6.59947555e-02,\n",
       "         5.44098557e-01, -5.03846398e-01,  1.66420855e+00,\n",
       "         1.54325580e+00,  8.08587730e-01,  4.20520059e-01,\n",
       "         2.37867521e-01],\n",
       "       [-4.36793245e-01, -4.77707071e-01, -1.10855024e+00,\n",
       "        -2.52982213e-01, -5.80286222e-01,  2.08506567e-01,\n",
       "        -5.49268772e-02, -3.24423430e-01, -8.68019332e-01,\n",
       "        -7.99686895e-01, -3.21452565e-01,  3.63263559e-01,\n",
       "        -5.10666028e-01],\n",
       "       [-4.22474306e-01, -4.77707071e-01,  2.09060185e+00,\n",
       "        -2.52982213e-01,  2.01139110e-01, -5.90984697e-01,\n",
       "         1.04033264e+00, -8.99890391e-01, -8.68019332e-01,\n",
       "        -1.28484170e+00,  2.90652595e-01,  9.79670238e-02,\n",
       "         1.88810944e+00],\n",
       "       [ 9.48282640e-01, -4.77707071e-01,  1.00455876e+00,\n",
       "        -2.52982213e-01,  2.26620371e-01,  8.01355704e-01,\n",
       "         9.44630356e-01, -8.27800358e-01,  1.66420855e+00,\n",
       "         1.54325580e+00,  8.08587730e-01, -3.40753791e+00,\n",
       "         1.06154343e+00],\n",
       "       [ 1.32720761e+00, -4.77707071e-01,  1.00455876e+00,\n",
       "        -2.52982213e-01,  1.55164593e+00, -5.93834933e-01,\n",
       "         1.02615453e+00, -9.24354880e-01,  1.66420855e+00,\n",
       "         1.54325580e+00,  8.08587730e-01, -1.47646541e+00,\n",
       "         1.65401207e+00],\n",
       "       [-4.20852120e-01,  3.56086111e-01, -5.97894218e-01,\n",
       "        -2.52982213e-01, -7.92630062e-01, -4.37393395e-02,\n",
       "        -1.82010242e+00,  3.45693032e-01, -7.52918064e-01,\n",
       "        -1.07776343e+00,  5.52275332e-02,  4.20520059e-01,\n",
       "        -8.31466120e-01],\n",
       "       [ 2.33434594e+00, -4.77707071e-01,  1.00455876e+00,\n",
       "        -2.52982213e-01,  1.21189579e+00, -2.71156045e+00,\n",
       "         8.34749951e-01, -1.15300762e+00,  1.66420855e+00,\n",
       "         1.54325580e+00,  8.08587730e-01, -9.26827275e-01,\n",
       "         2.64242317e+00],\n",
       "       [-4.24526586e-01,  4.34136675e-02, -7.25917841e-01,\n",
       "        -2.52982213e-01, -1.25978651e+00, -9.64365643e-01,\n",
       "        -1.09347393e+00,  1.38292723e+00, -6.37816797e-01,\n",
       "        -3.55947748e-01,  1.96482570e-01,  4.20520059e-01,\n",
       "         1.07813429e-01],\n",
       "       [-4.24028729e-01, -4.77707071e-01, -1.01648831e+00,\n",
       "        -2.52982213e-01, -4.01917396e-01, -9.95718242e-01,\n",
       "         7.39047662e-01, -5.73179163e-01, -5.22715530e-01,\n",
       "        -6.45857324e-01, -8.86472713e-01,  4.20520059e-01,\n",
       "         3.39020703e-01],\n",
       "       [-4.36382512e-01,  3.97775770e-01, -7.87771950e-01,\n",
       "        -2.52982213e-01, -1.00497390e+00, -3.88617924e-01,\n",
       "        -1.63933143e+00,  1.54169576e+00, -6.37816797e-01,\n",
       "        -9.59432988e-01, -7.92302688e-01,  4.20520059e-01,\n",
       "        -5.65577755e-01],\n",
       "       [-4.40572814e-01,  2.51861963e-01, -1.40055918e+00,\n",
       "        -2.52982213e-01, -1.19948086e+00,  1.18756271e+00,\n",
       "        -2.88865804e-01,  2.74897822e+00, -7.52918064e-01,\n",
       "        -1.11917908e+00,  5.52275332e-02,  3.76122011e-01,\n",
       "        -6.20489483e-01],\n",
       "       [-4.13663609e-01,  4.39465429e-01, -7.56125662e-01,\n",
       "        -2.52982213e-01, -1.07292393e+00,  2.38434048e-01,\n",
       "        -2.08239758e+00,  1.83346488e+00, -2.92512995e-01,\n",
       "        -4.44695577e-01,  2.90652595e-01,  1.79969977e-01,\n",
       "        -1.26497976e+00],\n",
       "       [-3.68523134e-01,  3.56086111e-01, -1.02799605e+00,\n",
       "        -2.52982213e-01,  1.50176589e-01,  1.70915594e+00,\n",
       "        -5.33438318e-01, -4.34864559e-01, -5.22715530e-01,\n",
       "        -8.35186027e-01, -2.58153316e+00,  3.40458004e-01,\n",
       "        -1.32711671e+00],\n",
       "       [-1.65274140e-01, -4.77707071e-01,  1.21745198e+00,\n",
       "        -2.52982213e-01,  4.04989197e-01,  2.36328516e+00,\n",
       "         1.01197641e+00, -8.49006258e-01, -5.22715530e-01,\n",
       "        -1.27894742e-02, -1.78108795e+00,  8.57151033e-02,\n",
       "        -1.24908426e+00],\n",
       "       [-4.25130930e-01, -4.77707071e-01, -3.67739392e-01,\n",
       "        -2.52982213e-01, -3.16979860e-01, -2.04777687e-01,\n",
       "         6.22078199e-01, -8.10655162e-01, -5.22715530e-01,\n",
       "        -1.25203391e-01,  1.13818282e+00,  3.08797101e-01,\n",
       "         2.52317975e-01],\n",
       "       [ 1.75011001e+00, -4.77707071e-01,  1.00455876e+00,\n",
       "        -2.52982213e-01,  1.03352696e+00, -5.33979972e-01,\n",
       "         9.83620177e-01, -9.17336379e-01,  1.66420855e+00,\n",
       "         1.54325580e+00,  8.08587730e-01, -4.30095765e+00,\n",
       "         1.74071480e+00],\n",
       "       [-4.35265099e-01,  4.34136675e-02, -7.25917841e-01,\n",
       "        -2.52982213e-01, -1.25978651e+00, -5.59632098e-01,\n",
       "        -1.63933143e+00,  1.38292723e+00, -6.37816797e-01,\n",
       "        -3.55947748e-01,  1.96482570e-01,  4.12149935e-01,\n",
       "        -6.13264256e-01],\n",
       "       [-6.51798631e-02, -4.77707071e-01,  1.21745198e+00,\n",
       "        -2.52982213e-01,  2.66432766e+00, -9.60090289e-01,\n",
       "         9.65897531e-01, -1.10979371e+00, -5.22715530e-01,\n",
       "        -1.27894742e-02, -1.78108795e+00, -1.25964117e-01,\n",
       "         1.31587143e+00],\n",
       "       [ 2.30414807e-01, -4.77707071e-01,  1.00455876e+00,\n",
       "        -2.52982213e-01,  4.81432979e-01,  3.03989481e-01,\n",
       "         9.19818651e-01, -7.18963458e-01,  1.66420855e+00,\n",
       "         1.54325580e+00,  8.08587730e-01,  4.12149935e-01,\n",
       "         9.15593842e-01],\n",
       "       [-4.08725138e-01, -4.77707071e-01,  1.54973801e+00,\n",
       "        -2.52982213e-01,  5.66370515e-01, -5.89559578e-01,\n",
       "         1.08286699e+00, -1.03815486e+00, -6.37816797e-01,\n",
       "         1.88372273e-01,  1.27943785e+00,  3.61565273e-01,\n",
       "         1.29708584e+00],\n",
       "       [-4.39054348e-01,  1.81522418e+00, -1.05532694e+00,\n",
       "        -2.52982213e-01, -6.22754990e-01,  8.59785547e-01,\n",
       "        -1.40184797e+00,  1.36658415e+00, -5.22715530e-01,\n",
       "        -2.08034699e-01, -4.15622590e-01,  3.12193673e-01,\n",
       "        -1.11758512e+00],\n",
       "       [-4.36241453e-01, -4.77707071e-01, -8.52502995e-01,\n",
       "        -2.52982213e-01, -3.59448628e-01,  6.45696374e-02,\n",
       "        -1.04739505e+00,  1.36307490e+00, -5.22715530e-01,\n",
       "        -1.07184691e+00,  8.08587730e-01,  3.33300942e-01,\n",
       "        -9.62965257e-01],\n",
       "       [-3.06577199e-01, -4.77707071e-01, -4.28155034e-01,\n",
       "        -2.52982213e-01, -1.64092295e-01, -6.52264776e-01,\n",
       "         1.14666852e+00,  1.78351912e-01, -6.37816797e-01,\n",
       "        -5.80775583e-01,  1.18526783e+00,  3.91891809e-01,\n",
       "         1.08899930e+00],\n",
       "       [-2.67159321e-01, -4.77707071e-01,  1.21745198e+00,\n",
       "         3.95284708e+00,  4.04989197e-01, -2.94881583e-02,\n",
       "         8.84373359e-01, -9.73083331e-01, -5.22715530e-01,\n",
       "        -1.27894742e-02, -1.78108795e+00, -2.82812960e-01,\n",
       "        -9.88976075e-01],\n",
       "       [ 2.11491519e+00, -4.77707071e-01,  1.00455876e+00,\n",
       "        -2.52982213e-01,  9.40095674e-01, -3.03933762e+00,\n",
       "         1.14666852e+00, -1.30465738e+00,  1.66420855e+00,\n",
       "         1.54325580e+00,  8.08587730e-01,  4.20520059e-01,\n",
       "         3.70308654e+00],\n",
       "       [-4.30301735e-01,  4.34136675e-02, -4.66993661e-01,\n",
       "        -2.52982213e-01, -2.83004845e-01, -5.43955799e-01,\n",
       "        -1.01549429e+00,  8.57993482e-01, -5.22715530e-01,\n",
       "        -5.57109495e-01, -1.54566288e+00,  3.42884127e-01,\n",
       "         4.86415340e-01],\n",
       "       [-4.37100257e-01,  5.64534406e-01, -8.99972428e-01,\n",
       "        -2.52982213e-01, -1.11539270e+00,  4.96380427e-01,\n",
       "         9.74878781e-02,  8.32827142e-01, -6.37816797e-01,\n",
       "        -7.34605154e-01,  2.43567582e-01,  4.05114179e-01,\n",
       "        -7.40428256e-01],\n",
       "       [-4.23837883e-01, -4.77707071e-01, -7.57304556e-02,\n",
       "        -2.52982213e-01, -5.80286222e-01,  1.48651606e-01,\n",
       "        -1.25297774e+00,  1.03253950e-01, -6.37816797e-01,\n",
       "        -7.58271241e-01,  5.52275332e-02,  2.85991546e-01,\n",
       "        -4.28298437e-01],\n",
       "       [-3.37943612e-01,  3.56086111e-01, -1.02799605e+00,\n",
       "        -2.52982213e-01,  7.61726848e-01, -1.01281966e+00,\n",
       "        -1.71896341e-01, -8.78784755e-01, -5.22715530e-01,\n",
       "        -8.35186027e-01, -2.58153316e+00,  3.65932295e-01,\n",
       "        -2.73678572e-01],\n",
       "       [ 6.28814313e-01, -4.77707071e-01,  1.00455876e+00,\n",
       "        -2.52982213e-01,  1.32231459e+00,  4.31928656e-02,\n",
       "         5.68910261e-01, -4.79432041e-01,  1.66420855e+00,\n",
       "         1.54325580e+00,  8.08587730e-01, -1.09204624e+00,\n",
       "         5.61557704e-01],\n",
       "       [ 3.62153468e-01, -4.77707071e-01,  1.00455876e+00,\n",
       "        -2.52982213e-01, -2.15054816e-01, -4.08891033e-02,\n",
       "        -1.04550286e-01, -1.58034821e-01,  1.66420855e+00,\n",
       "         1.54325580e+00,  8.08587730e-01,  4.20520059e-01,\n",
       "        -2.31772254e-01],\n",
       "       [ 3.28556376e-01, -4.77707071e-01,  1.00455876e+00,\n",
       "        -2.52982213e-01,  1.32231459e+00,  2.35583811e-01,\n",
       "         7.17780487e-01, -7.13699582e-01,  1.66420855e+00,\n",
       "         1.54325580e+00,  8.08587730e-01, -3.17875452e+00,\n",
       "         5.60112659e-01],\n",
       "       [-4.33721740e-01, -4.77707071e-01, -1.28548176e+00,\n",
       "        -2.52982213e-01, -8.43592583e-01,  1.24884279e+00,\n",
       "        -4.76725851e-01,  1.16445132e+00, -7.52918064e-01,\n",
       "        -1.08367995e+00,  1.02312546e-01,  4.20520059e-01,\n",
       "        -1.01354185e+00],\n",
       "       [-4.25074230e-01, -4.77707071e-01, -1.59161580e-01,\n",
       "        -2.52982213e-01, -8.76485123e-02, -1.34946899e-01,\n",
       "         1.71922991e-01, -5.06002081e-01, -4.07614262e-01,\n",
       "         1.58789663e-01, -3.21452565e-01,  3.76849847e-01,\n",
       "        -4.39163440e-02],\n",
       "       [ 6.70794775e-01, -4.77707071e-01,  1.00455876e+00,\n",
       "        -2.52982213e-01,  2.26620371e-01, -1.20236037e+00,\n",
       "         9.83620177e-01, -6.56548930e-01,  1.66420855e+00,\n",
       "         1.54325580e+00,  8.08587730e-01, -1.17108768e-01,\n",
       "         8.37561387e-01],\n",
       "       [-4.33381537e-01, -4.77707071e-01, -9.53195732e-01,\n",
       "        -2.52982213e-01, -9.20036366e-01, -2.13328395e-01,\n",
       "        -3.84568092e-01,  4.09255510e-03, -7.52918064e-01,\n",
       "        -9.35766900e-01,  8.14252092e-03,  3.99291484e-01,\n",
       "        -5.64132710e-01]])"
      ]
     },
     "execution_count": 33,
     "metadata": {},
     "output_type": "execute_result"
    }
   ],
   "source": [
    "X_test"
   ]
  },
  {
   "cell_type": "code",
   "execution_count": 34,
   "metadata": {},
   "outputs": [],
   "source": [
    "model = LinearRegression()"
   ]
  },
  {
   "cell_type": "code",
   "execution_count": 35,
   "metadata": {
    "colab": {},
    "colab_type": "code",
    "id": "uzHeRy2g9Y73",
    "outputId": "f3e1721b-c5e9-44c3-e07f-0976272cc3ee"
   },
   "outputs": [
    {
     "data": {
      "text/plain": [
       "LinearRegression(copy_X=True, fit_intercept=True, n_jobs=None, normalize=False)"
      ]
     },
     "execution_count": 35,
     "metadata": {},
     "output_type": "execute_result"
    }
   ],
   "source": [
    "model.fit(X_train,y_train)"
   ]
  },
  {
   "cell_type": "code",
   "execution_count": 36,
   "metadata": {
    "colab": {},
    "colab_type": "code",
    "id": "KGghqfWy9Y78"
   },
   "outputs": [],
   "source": [
    "pred = model.predict(X_test)"
   ]
  },
  {
   "cell_type": "code",
   "execution_count": 37,
   "metadata": {
    "colab": {},
    "colab_type": "code",
    "id": "8MCPvbr89Y7_",
    "outputId": "b7b9ff37-d2d0-4c4a-9c1e-eec9657a2c16"
   },
   "outputs": [
    {
     "data": {
      "text/plain": [
       "0.7256305671670327"
      ]
     },
     "execution_count": 37,
     "metadata": {},
     "output_type": "execute_result"
    }
   ],
   "source": [
    "model.score(X_train,y_train)"
   ]
  },
  {
   "cell_type": "code",
   "execution_count": 38,
   "metadata": {
    "colab": {},
    "colab_type": "code",
    "id": "w_i-jk5n9Y8C",
    "outputId": "7f14792f-f7d3-4812-b1c0-df2b4fa4e637"
   },
   "outputs": [
    {
     "data": {
      "text/plain": [
       "0.739031586042544"
      ]
     },
     "execution_count": 38,
     "metadata": {},
     "output_type": "execute_result"
    }
   ],
   "source": [
    "model.score(X_test,y_test)"
   ]
  },
  {
   "cell_type": "code",
   "execution_count": 41,
   "metadata": {
    "colab": {},
    "colab_type": "code",
    "id": "2oR9HQTr9Y8O",
    "outputId": "716ac164-3a07-4cca-b266-531dff0bc770"
   },
   "outputs": [
    {
     "data": {
      "text/html": [
       "<div>\n",
       "<style scoped>\n",
       "    .dataframe tbody tr th:only-of-type {\n",
       "        vertical-align: middle;\n",
       "    }\n",
       "\n",
       "    .dataframe tbody tr th {\n",
       "        vertical-align: top;\n",
       "    }\n",
       "\n",
       "    .dataframe thead th {\n",
       "        text-align: right;\n",
       "    }\n",
       "</style>\n",
       "<table border=\"1\" class=\"dataframe\">\n",
       "  <thead>\n",
       "    <tr style=\"text-align: right;\">\n",
       "      <th></th>\n",
       "      <th>Coefficient</th>\n",
       "    </tr>\n",
       "  </thead>\n",
       "  <tbody>\n",
       "    <tr>\n",
       "      <th>crim</th>\n",
       "      <td>-0.052489</td>\n",
       "    </tr>\n",
       "    <tr>\n",
       "      <th>zn</th>\n",
       "      <td>0.047445</td>\n",
       "    </tr>\n",
       "    <tr>\n",
       "      <th>indus</th>\n",
       "      <td>0.053855</td>\n",
       "    </tr>\n",
       "    <tr>\n",
       "      <th>chas</th>\n",
       "      <td>3.784864</td>\n",
       "    </tr>\n",
       "    <tr>\n",
       "      <th>nox</th>\n",
       "      <td>-15.739657</td>\n",
       "    </tr>\n",
       "    <tr>\n",
       "      <th>rm</th>\n",
       "      <td>3.768832</td>\n",
       "    </tr>\n",
       "    <tr>\n",
       "      <th>age</th>\n",
       "      <td>-0.004627</td>\n",
       "    </tr>\n",
       "    <tr>\n",
       "      <th>dis</th>\n",
       "      <td>-1.548823</td>\n",
       "    </tr>\n",
       "    <tr>\n",
       "      <th>rad</th>\n",
       "      <td>0.328967</td>\n",
       "    </tr>\n",
       "    <tr>\n",
       "      <th>tax</th>\n",
       "      <td>-0.012866</td>\n",
       "    </tr>\n",
       "    <tr>\n",
       "      <th>ptratio</th>\n",
       "      <td>-0.856976</td>\n",
       "    </tr>\n",
       "    <tr>\n",
       "      <th>black</th>\n",
       "      <td>0.011666</td>\n",
       "    </tr>\n",
       "    <tr>\n",
       "      <th>lstat</th>\n",
       "      <td>-0.600315</td>\n",
       "    </tr>\n",
       "  </tbody>\n",
       "</table>\n",
       "</div>"
      ],
      "text/plain": [
       "         Coefficient\n",
       "crim       -0.052489\n",
       "zn          0.047445\n",
       "indus       0.053855\n",
       "chas        3.784864\n",
       "nox       -15.739657\n",
       "rm          3.768832\n",
       "age        -0.004627\n",
       "dis        -1.548823\n",
       "rad         0.328967\n",
       "tax        -0.012866\n",
       "ptratio    -0.856976\n",
       "black       0.011666\n",
       "lstat      -0.600315"
      ]
     },
     "execution_count": 41,
     "metadata": {},
     "output_type": "execute_result"
    }
   ],
   "source": [
    "coeff_df = pd.DataFrame(model.coef_,X.columns,columns=['Coefficient'])\n",
    "coeff_df"
   ]
  },
  {
   "cell_type": "code",
   "execution_count": 42,
   "metadata": {
    "colab": {},
    "colab_type": "code",
    "id": "V4LBgBzM9Y8S",
    "outputId": "271c4110-71e9-4cf4-b84b-692444eaf153"
   },
   "outputs": [
    {
     "data": {
      "text/plain": [
       "<matplotlib.axes._subplots.AxesSubplot at 0x19e10bf9c48>"
      ]
     },
     "execution_count": 42,
     "metadata": {},
     "output_type": "execute_result"
    },
    {
     "data": {
      "image/png": "[encoded data removed]",
      "text/plain": [
       "<Figure size 432x288 with 1 Axes>"
      ]
     },
     "metadata": {
      "needs_background": "light"
     },
     "output_type": "display_data"
    }
   ],
   "source": [
    "sns.boxplot('chas','medv',data=df)"
   ]
  },
  {
   "cell_type": "code",
   "execution_count": 43,
   "metadata": {
    "colab": {},
    "colab_type": "code",
    "id": "95CwEJh39Y8W",
    "outputId": "5daae80a-9f9c-46dd-d643-51df19b383b2"
   },
   "outputs": [
    {
     "data": {
      "text/plain": [
       "0.713    14\n",
       "0.538    14\n",
       "0.437    12\n",
       "0.605    11\n",
       "0.871    10\n",
       "         ..\n",
       "0.518     1\n",
       "0.415     1\n",
       "0.442     1\n",
       "0.445     1\n",
       "0.389     1\n",
       "Name: nox, Length: 77, dtype: int64"
      ]
     },
     "execution_count": 43,
     "metadata": {},
     "output_type": "execute_result"
    }
   ],
   "source": [
    "df['nox'].value_counts()"
   ]
  },
  {
   "cell_type": "markdown",
   "metadata": {},
   "source": [
    "## Polynomial Regression"
   ]
  },
  {
   "cell_type": "code",
   "execution_count": 44,
   "metadata": {
    "colab": {},
    "colab_type": "code",
    "id": "2fiwUuVq9Y8Z"
   },
   "outputs": [],
   "source": [
    "from sklearn.preprocessing import PolynomialFeatures"
   ]
  },
  {
   "cell_type": "code",
   "execution_count": 79,
   "metadata": {},
   "outputs": [],
   "source": [
    "a=PolynomialFeatures() # initialize"
   ]
  },
  {
   "cell_type": "code",
   "execution_count": 70,
   "metadata": {},
   "outputs": [],
   "source": [
    "temp=df[['crim']]"
   ]
  },
  {
   "cell_type": "code",
   "execution_count": 80,
   "metadata": {},
   "outputs": [
    {
     "data": {
      "text/plain": [
       "(266, 13)"
      ]
     },
     "execution_count": 80,
     "metadata": {},
     "output_type": "execute_result"
    }
   ],
   "source": [
    "X_train.shape"
   ]
  },
  {
   "cell_type": "code",
   "execution_count": 81,
   "metadata": {},
   "outputs": [],
   "source": [
    "X_train = a.fit_transform(X_train)"
   ]
  },
  {
   "cell_type": "code",
   "execution_count": 82,
   "metadata": {},
   "outputs": [
    {
     "data": {
      "text/plain": [
       "(266, 105)"
      ]
     },
     "execution_count": 82,
     "metadata": {},
     "output_type": "execute_result"
    }
   ],
   "source": [
    "X_train.shape"
   ]
  },
  {
   "cell_type": "code",
   "execution_count": 83,
   "metadata": {},
   "outputs": [],
   "source": [
    "l = LinearRegression()"
   ]
  },
  {
   "cell_type": "code",
   "execution_count": 84,
   "metadata": {},
   "outputs": [
    {
     "data": {
      "text/plain": [
       "LinearRegression(copy_X=True, fit_intercept=True, n_jobs=None, normalize=False)"
      ]
     },
     "execution_count": 84,
     "metadata": {},
     "output_type": "execute_result"
    }
   ],
   "source": [
    "l.fit(X_train,y_train)"
   ]
  },
  {
   "cell_type": "code",
   "execution_count": 85,
   "metadata": {},
   "outputs": [
    {
     "data": {
      "text/plain": [
       "0.9448424325894028"
      ]
     },
     "execution_count": 85,
     "metadata": {},
     "output_type": "execute_result"
    }
   ],
   "source": [
    "l.score(X_train,y_train)"
   ]
  },
  {
   "cell_type": "code",
   "execution_count": 86,
   "metadata": {},
   "outputs": [],
   "source": [
    "X_test = a.transform(X_test)"
   ]
  },
  {
   "cell_type": "code",
   "execution_count": 87,
   "metadata": {},
   "outputs": [
    {
     "data": {
      "text/plain": [
       "0.6173224859270292"
      ]
     },
     "execution_count": 87,
     "metadata": {},
     "output_type": "execute_result"
    }
   ],
   "source": [
    "l.score(X_test,y_test)"
   ]
  },
  {
   "cell_type": "code",
   "execution_count": 71,
   "metadata": {},
   "outputs": [],
   "source": [
    "a=PolynomialFeatures()"
   ]
  },
  {
   "cell_type": "code",
   "execution_count": 72,
   "metadata": {},
   "outputs": [
    {
     "data": {
      "text/plain": [
       "(333, 1)"
      ]
     },
     "execution_count": 72,
     "metadata": {},
     "output_type": "execute_result"
    }
   ],
   "source": [
    "temp.shape"
   ]
  },
  {
   "cell_type": "code",
   "execution_count": 73,
   "metadata": {},
   "outputs": [],
   "source": [
    "temp_2 = a.fit_transform(temp)"
   ]
  },
  {
   "cell_type": "code",
   "execution_count": 77,
   "metadata": {},
   "outputs": [
    {
     "data": {
      "text/html": [
       "<div>\n",
       "<style scoped>\n",
       "    .dataframe tbody tr th:only-of-type {\n",
       "        vertical-align: middle;\n",
       "    }\n",
       "\n",
       "    .dataframe tbody tr th {\n",
       "        vertical-align: top;\n",
       "    }\n",
       "\n",
       "    .dataframe thead th {\n",
       "        text-align: right;\n",
       "    }\n",
       "</style>\n",
       "<table border=\"1\" class=\"dataframe\">\n",
       "  <thead>\n",
       "    <tr style=\"text-align: right;\">\n",
       "      <th></th>\n",
       "      <th>0</th>\n",
       "      <th>1</th>\n",
       "      <th>2</th>\n",
       "    </tr>\n",
       "  </thead>\n",
       "  <tbody>\n",
       "    <tr>\n",
       "      <th>0</th>\n",
       "      <td>1.0</td>\n",
       "      <td>0.00632</td>\n",
       "      <td>0.000040</td>\n",
       "    </tr>\n",
       "    <tr>\n",
       "      <th>1</th>\n",
       "      <td>1.0</td>\n",
       "      <td>0.02731</td>\n",
       "      <td>0.000746</td>\n",
       "    </tr>\n",
       "    <tr>\n",
       "      <th>2</th>\n",
       "      <td>1.0</td>\n",
       "      <td>0.03237</td>\n",
       "      <td>0.001048</td>\n",
       "    </tr>\n",
       "    <tr>\n",
       "      <th>3</th>\n",
       "      <td>1.0</td>\n",
       "      <td>0.06905</td>\n",
       "      <td>0.004768</td>\n",
       "    </tr>\n",
       "    <tr>\n",
       "      <th>4</th>\n",
       "      <td>1.0</td>\n",
       "      <td>0.08829</td>\n",
       "      <td>0.007795</td>\n",
       "    </tr>\n",
       "    <tr>\n",
       "      <th>...</th>\n",
       "      <td>...</td>\n",
       "      <td>...</td>\n",
       "      <td>...</td>\n",
       "    </tr>\n",
       "    <tr>\n",
       "      <th>328</th>\n",
       "      <td>1.0</td>\n",
       "      <td>0.17783</td>\n",
       "      <td>0.031624</td>\n",
       "    </tr>\n",
       "    <tr>\n",
       "      <th>329</th>\n",
       "      <td>1.0</td>\n",
       "      <td>0.06263</td>\n",
       "      <td>0.003923</td>\n",
       "    </tr>\n",
       "    <tr>\n",
       "      <th>330</th>\n",
       "      <td>1.0</td>\n",
       "      <td>0.04527</td>\n",
       "      <td>0.002049</td>\n",
       "    </tr>\n",
       "    <tr>\n",
       "      <th>331</th>\n",
       "      <td>1.0</td>\n",
       "      <td>0.06076</td>\n",
       "      <td>0.003692</td>\n",
       "    </tr>\n",
       "    <tr>\n",
       "      <th>332</th>\n",
       "      <td>1.0</td>\n",
       "      <td>0.04741</td>\n",
       "      <td>0.002248</td>\n",
       "    </tr>\n",
       "  </tbody>\n",
       "</table>\n",
       "<p>333 rows × 3 columns</p>\n",
       "</div>"
      ],
      "text/plain": [
       "       0        1         2\n",
       "0    1.0  0.00632  0.000040\n",
       "1    1.0  0.02731  0.000746\n",
       "2    1.0  0.03237  0.001048\n",
       "3    1.0  0.06905  0.004768\n",
       "4    1.0  0.08829  0.007795\n",
       "..   ...      ...       ...\n",
       "328  1.0  0.17783  0.031624\n",
       "329  1.0  0.06263  0.003923\n",
       "330  1.0  0.04527  0.002049\n",
       "331  1.0  0.06076  0.003692\n",
       "332  1.0  0.04741  0.002248\n",
       "\n",
       "[333 rows x 3 columns]"
      ]
     },
     "execution_count": 77,
     "metadata": {},
     "output_type": "execute_result"
    }
   ],
   "source": [
    "pd.DataFrame(temp_2)#.shape"
   ]
  },
  {
   "cell_type": "code",
   "execution_count": 76,
   "metadata": {},
   "outputs": [
    {
     "data": {
      "text/html": [
       "<div>\n",
       "<style scoped>\n",
       "    .dataframe tbody tr th:only-of-type {\n",
       "        vertical-align: middle;\n",
       "    }\n",
       "\n",
       "    .dataframe tbody tr th {\n",
       "        vertical-align: top;\n",
       "    }\n",
       "\n",
       "    .dataframe thead th {\n",
       "        text-align: right;\n",
       "    }\n",
       "</style>\n",
       "<table border=\"1\" class=\"dataframe\">\n",
       "  <thead>\n",
       "    <tr style=\"text-align: right;\">\n",
       "      <th></th>\n",
       "      <th>crim</th>\n",
       "    </tr>\n",
       "    <tr>\n",
       "      <th>ID</th>\n",
       "      <th></th>\n",
       "    </tr>\n",
       "  </thead>\n",
       "  <tbody>\n",
       "    <tr>\n",
       "      <th>1</th>\n",
       "      <td>0.00632</td>\n",
       "    </tr>\n",
       "    <tr>\n",
       "      <th>2</th>\n",
       "      <td>0.02731</td>\n",
       "    </tr>\n",
       "    <tr>\n",
       "      <th>4</th>\n",
       "      <td>0.03237</td>\n",
       "    </tr>\n",
       "    <tr>\n",
       "      <th>5</th>\n",
       "      <td>0.06905</td>\n",
       "    </tr>\n",
       "    <tr>\n",
       "      <th>7</th>\n",
       "      <td>0.08829</td>\n",
       "    </tr>\n",
       "    <tr>\n",
       "      <th>...</th>\n",
       "      <td>...</td>\n",
       "    </tr>\n",
       "    <tr>\n",
       "      <th>500</th>\n",
       "      <td>0.17783</td>\n",
       "    </tr>\n",
       "    <tr>\n",
       "      <th>502</th>\n",
       "      <td>0.06263</td>\n",
       "    </tr>\n",
       "    <tr>\n",
       "      <th>503</th>\n",
       "      <td>0.04527</td>\n",
       "    </tr>\n",
       "    <tr>\n",
       "      <th>504</th>\n",
       "      <td>0.06076</td>\n",
       "    </tr>\n",
       "    <tr>\n",
       "      <th>506</th>\n",
       "      <td>0.04741</td>\n",
       "    </tr>\n",
       "  </tbody>\n",
       "</table>\n",
       "<p>333 rows × 1 columns</p>\n",
       "</div>"
      ],
      "text/plain": [
       "        crim\n",
       "ID          \n",
       "1    0.00632\n",
       "2    0.02731\n",
       "4    0.03237\n",
       "5    0.06905\n",
       "7    0.08829\n",
       "..       ...\n",
       "500  0.17783\n",
       "502  0.06263\n",
       "503  0.04527\n",
       "504  0.06076\n",
       "506  0.04741\n",
       "\n",
       "[333 rows x 1 columns]"
      ]
     },
     "execution_count": 76,
     "metadata": {},
     "output_type": "execute_result"
    }
   ],
   "source": [
    "temp"
   ]
  }
 ],
 "metadata": {
  "colab": {
   "name": "Linear Regression.ipynb",
   "provenance": []
  },
  "kernelspec": {
   "display_name": "Python 3",
   "language": "python",
   "name": "python3"
  },
  "language_info": {
   "codemirror_mode": {
    "name": "ipython",
    "version": 3
   },
   "file_extension": ".py",
   "mimetype": "text/x-python",
   "name": "python",
   "nbconvert_exporter": "python",
   "pygments_lexer": "ipython3",
   "version": "3.8.3"
  }
 },
 "nbformat": 4,
 "nbformat_minor": 1
}
